{
 "cells": [
  {
   "cell_type": "markdown",
   "id": "7c874a8c",
   "metadata": {},
   "source": [
    "# DR vs GBR: Distributional Repair & Group-Blind Repair (Adult dataset)\n",
    "\n",
    "This notebook compares two dataset-repair approaches:\n",
    "\n",
    "- **Distributional Repair (DR)** group-aware: learns two OT maps (S=0 and S=1) to a shared barycenter (conditional on U).\n",
    "\n",
    "- **GroupBlind Repair (GBR)** group-blind: learns one OT map from the pooled distribution to a target (we will align this target with DR’s barycenter so the comparison is meaningful). Variants:\n",
    "\n",
    "    - `baseline` (no fairness vector)\n",
    "\n",
    "    - `partial` / `total` (use fairness vector *V*), optional.\n",
    "\n",
    "**Data:** Adult (AIF360).  \n",
    "**Protected (S):** sex (0 = Female, 1 = Male)  \n",
    "**Unprotected (U):** college_educated (0/1)  \n",
    "**Features (X):** age, hours-per-week (continuous)\n",
    "\n",
    "We compute U-Mean KLD (average KL divergence between P(X|S=1,U) and P(X|S=0,U), averaged over *U*) on:\n",
    "\n",
    "- **Research** split (used to learn transport)\n",
    "\n",
    "- **Archive** split (held-out to check generalization)\n",
    "\n",
    "Smaller values indicate closer group distributions conditional on *U* (0 = identical)."
   ]
  },
  {
   "cell_type": "markdown",
   "id": "af12c022",
   "metadata": {},
   "source": [
    "## Imports & config"
   ]
  },
  {
   "cell_type": "code",
   "execution_count": 1,
   "id": "5ae5db0e",
   "metadata": {},
   "outputs": [],
   "source": [
    "import time\n",
    "import warnings\n",
    "warnings.filterwarnings(\"ignore\")\n",
    "\n",
    "import numpy as np\n",
    "import pandas as pd\n",
    "import matplotlib.pyplot as plt\n",
    "import ot\n",
    "\n",
    "from sklearn.neighbors import KernelDensity\n",
    "from aif360.datasets import AdultDataset\n",
    "\n",
    "from humancompatible.repair.distributional_repair import DistributionalRepair\n",
    "from humancompatible.repair.group_blind_repair import GroupBlindRepair\n",
    "\n",
    "np.random.seed(0)"
   ]
  },
  {
   "cell_type": "markdown",
   "id": "1b9042f3",
   "metadata": {},
   "source": [
    "## Dataset loader"
   ]
  },
  {
   "cell_type": "code",
   "execution_count": 2,
   "id": "fdc67050",
   "metadata": {},
   "outputs": [],
   "source": [
    "def load_adult_dataset(s,u,x,y):\n",
    "    def custom_preprocessing(df):\n",
    "        pd.set_option('future.no_silent_downcasting', True)\n",
    "        def group_race(x):\n",
    "            if x == \"White\":\n",
    "                return 1.0\n",
    "            else:\n",
    "                return 0.0\n",
    "\n",
    "        df['race'] = df['race'].apply(lambda x: group_race(x))\n",
    "\n",
    "        # Encode 'sex' column as numerical values\n",
    "        df['sex'] = df['sex'].map({'Female': 0.0, 'Male': 1.0})\n",
    "\n",
    "        df['Income Binary'] = df['income-per-year']\n",
    "        df['Income Binary'] = df['Income Binary'].replace(to_replace='>50K.', value=1, regex=True)\n",
    "        df['Income Binary'] = df['Income Binary'].replace(to_replace='>50K', value=1, regex=True)\n",
    "        df['Income Binary'] = df['Income Binary'].replace(to_replace='<=50K.', value=0, regex=True)\n",
    "        df['Income Binary'] = df['Income Binary'].replace(to_replace='<=50K', value=0, regex=True)\n",
    "        # 1 if education-num is greater than 9, 0 otherwise\n",
    "        df['college_educated'] = (df['education-num'] > 9).astype(int)\n",
    "\n",
    "        #drop nan columns\n",
    "        df = df.dropna()\n",
    "\n",
    "        return df\n",
    "\n",
    "    adult = AdultDataset(\n",
    "        label_name=y,\n",
    "        favorable_classes=[1,1],\n",
    "        protected_attribute_names=[s],\n",
    "        privileged_classes=[[1.0]],\n",
    "        instance_weights_name=None,\n",
    "        categorical_features=[],\n",
    "        features_to_keep=[s]+[u]+x,\n",
    "        na_values=[],\n",
    "        custom_preprocessing=custom_preprocessing,\n",
    "        features_to_drop=[],\n",
    "        metadata={}\n",
    "    )\n",
    "    return adult"
   ]
  }
 ],
 "metadata": {
  "kernelspec": {
   "display_name": ".venv (3.13.3)",
   "language": "python",
   "name": "python3"
  },
  "language_info": {
   "codemirror_mode": {
    "name": "ipython",
    "version": 3
   },
   "file_extension": ".py",
   "mimetype": "text/x-python",
   "name": "python",
   "nbconvert_exporter": "python",
   "pygments_lexer": "ipython3",
   "version": "3.13.3"
  }
 },
 "nbformat": 4,
 "nbformat_minor": 5
}
