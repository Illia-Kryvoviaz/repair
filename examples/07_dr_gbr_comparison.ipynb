{
 "cells": [
  {
   "cell_type": "markdown",
   "id": "7c874a8c",
   "metadata": {},
   "source": [
    "# DR vs GBR: Distributional Repair & Group-Blind Repair (Adult dataset)\n",
    "\n",
    "This notebook compares two dataset-repair approaches:\n",
    "\n",
    "- **Distributional Repair (DR)** group-aware: learns two OT maps (S=0 and S=1) to a shared barycenter (conditional on U).\n",
    "\n",
    "- **GroupBlind Repair (GBR)** group-blind: learns one OT map from the pooled distribution to a target (we will align this target with DR’s barycenter so the comparison is meaningful). Variants:\n",
    "\n",
    "    - `baseline` (no fairness vector)\n",
    "\n",
    "    - `partial` / `total` (use fairness vector *V*), optional.\n",
    "\n",
    "**Data:** Adult (AIF360).  \n",
    "**Protected (S):** sex (0 = Female, 1 = Male)  \n",
    "**Unprotected (U):** college_educated (0/1)  \n",
    "**Features (X):** age, hours-per-week (continuous)\n",
    "\n",
    "We compute U-Mean KLD (average KL divergence between P(X|S=1,U) and P(X|S=0,U), averaged over U) on:\n",
    "\n",
    "- **Research** split (used to learn transport)\n",
    "\n",
    "- **Archive** split (held-out to check generalization)\n",
    "\n",
    "Lower is better."
   ]
  }
 ],
 "metadata": {
  "language_info": {
   "name": "python"
  }
 },
 "nbformat": 4,
 "nbformat_minor": 5
}
