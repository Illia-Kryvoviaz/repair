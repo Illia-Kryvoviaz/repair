{
 "cells": [
  {
   "cell_type": "markdown",
   "id": "7c874a8c",
   "metadata": {},
   "source": [
    "# DR vs GBR: Distributional Repair & Group-Blind Repair (Adult dataset)\n",
    "\n",
    "This notebook compares two dataset-repair approaches:\n",
    "\n",
    "- **Distributional Repair (DR)** group-aware: learns two OT maps (S=0 and S=1) to a shared barycenter (conditional on U).\n",
    "\n",
    "- **GroupBlind Repair (GBR)** group-blind: learns one OT map from the pooled distribution to a target (we will align this target with DR’s barycenter so the comparison is meaningful). Variants:\n",
    "\n",
    "    - `baseline` (no fairness vector)\n",
    "\n",
    "    - `partial` / `total` (use fairness vector *V*), optional.\n",
    "\n",
    "**Data:** Adult (AIF360).  \n",
    "**Protected (S):** sex (0 = Female, 1 = Male)  \n",
    "**Unprotected (U):** college_educated (0/1)  \n",
    "**Features (X):** age, hours-per-week (continuous)\n",
    "\n",
    "We compute U-Mean KLD (average KL divergence between P(X|S=1,U) and P(X|S=0,U), averaged over *U*) on:\n",
    "\n",
    "- **Research** split (used to learn transport)\n",
    "\n",
    "- **Archive** split (held-out to check generalization)\n",
    "\n",
    "Smaller values indicate closer group distributions conditional on *U* (0 = identical)."
   ]
  },
  {
   "cell_type": "markdown",
   "id": "af12c022",
   "metadata": {},
   "source": [
    "## Imports & config"
   ]
  },
  {
   "cell_type": "code",
   "execution_count": 1,
   "id": "5ae5db0e",
   "metadata": {},
   "outputs": [],
   "source": [
    "import time\n",
    "import warnings\n",
    "warnings.filterwarnings(\"ignore\")\n",
    "\n",
    "import numpy as np\n",
    "import pandas as pd\n",
    "import matplotlib.pyplot as plt\n",
    "import ot\n",
    "\n",
    "from sklearn.neighbors import KernelDensity\n",
    "from aif360.datasets import AdultDataset\n",
    "\n",
    "from humancompatible.repair.distributional_repair import DistributionalRepair\n",
    "from humancompatible.repair.group_blind_repair import GroupBlindRepair\n",
    "\n",
    "np.random.seed(0)"
   ]
  },
  {
   "cell_type": "markdown",
   "id": "1b9042f3",
   "metadata": {},
   "source": [
    "## Dataset loader"
   ]
  },
  {
   "cell_type": "code",
   "execution_count": 2,
   "id": "fdc67050",
   "metadata": {},
   "outputs": [],
   "source": [
    "def load_adult_dataset(s,u,x,y):\n",
    "    def custom_preprocessing(df):\n",
    "        pd.set_option('future.no_silent_downcasting', True)\n",
    "        def group_race(x):\n",
    "            if x == \"White\":\n",
    "                return 1.0\n",
    "            else:\n",
    "                return 0.0\n",
    "\n",
    "        df['race'] = df['race'].apply(lambda x: group_race(x))\n",
    "\n",
    "        # Encode 'sex' column as numerical values\n",
    "        df['sex'] = df['sex'].map({'Female': 0.0, 'Male': 1.0})\n",
    "\n",
    "        df['Income Binary'] = df['income-per-year']\n",
    "        df['Income Binary'] = df['Income Binary'].replace(to_replace='>50K.', value=1, regex=True)\n",
    "        df['Income Binary'] = df['Income Binary'].replace(to_replace='>50K', value=1, regex=True)\n",
    "        df['Income Binary'] = df['Income Binary'].replace(to_replace='<=50K.', value=0, regex=True)\n",
    "        df['Income Binary'] = df['Income Binary'].replace(to_replace='<=50K', value=0, regex=True)\n",
    "        # 1 if education-num is greater than 9, 0 otherwise\n",
    "        df['college_educated'] = (df['education-num'] > 9).astype(int)\n",
    "\n",
    "        #drop nan columns\n",
    "        df = df.dropna()\n",
    "\n",
    "        return df\n",
    "\n",
    "    adult = AdultDataset(\n",
    "        label_name=y,\n",
    "        favorable_classes=[1,1],\n",
    "        protected_attribute_names=[s],\n",
    "        privileged_classes=[[1.0]],\n",
    "        instance_weights_name=None,\n",
    "        categorical_features=[],\n",
    "        features_to_keep=[s]+[u]+x,\n",
    "        na_values=[],\n",
    "        custom_preprocessing=custom_preprocessing,\n",
    "        features_to_drop=[],\n",
    "        metadata={}\n",
    "    )\n",
    "    return adult"
   ]
  },
  {
   "cell_type": "markdown",
   "id": "09cc88cc",
   "metadata": {},
   "source": [
    "## KLD (Kullback-Leibler Divergence) evaluation helpers"
   ]
  },
  {
   "cell_type": "markdown",
   "id": "6bbe2c3f",
   "metadata": {},
   "source": [
    "We use a simple distribution-level score to quantify how much group signal remains in each feature after repair. \n",
    "\n",
    "For each value of U, we take the feature X restricted to the two groups (S=0 and S=1), fit 1-D Gaussian KDEs for each group on a shared grid of 500 points spanning the pooled min/max, add a tiny *ε* to avoid zeros, and compute a one-directional Kullback-Leibler divergence KL(P0||P1) (i.e., how well the S=1 density explains S=0). \n",
    "\n",
    "We then weight that KL by the prevalence of the corresponding U value and average across all U values. Lower values mean the conditional distributions P(X|S,U) are closer (0 means identical). \n",
    "\n",
    "Because KL is asymmetric, the score reflects the fixed direction S=0 -> S=1; we keep this direction consistent across runs so results are comparable. U values with missing group samples are skipped. The absolute scale depends on the KDE bandwidth and grid resolution, so the metric is best used for before/after comparisons rather than as an absolute number."
   ]
  },
  {
   "cell_type": "code",
   "execution_count": 3,
   "id": "74ea1232",
   "metadata": {},
   "outputs": [],
   "source": [
    "def _eval_kld(x_0, x_1):\n",
    "    support = np.linspace(np.min([np.min(x_0), np.min(x_1)]), np.max([np.max(x_0), np.max(x_1)]), 500).reshape(-1,1)\n",
    "    kde_0 = KernelDensity(kernel='gaussian',bandwidth='silverman').fit(x_0.reshape(-1,1))\n",
    "    pmf_0 = np.exp(kde_0.score_samples(support)) \n",
    "    #add a small value to avoid division by zero\n",
    "    pmf_0 += 1e-10\n",
    "    kde_1 = KernelDensity(kernel='gaussian',bandwidth='silverman').fit(x_1.reshape(-1,1))\n",
    "    pmf_1 = np.exp(kde_1.score_samples(support))\n",
    "    pmf_1 += 1e-10\n",
    "    return - np.sum(pmf_0 * np.log(pmf_1 / pmf_0))\n",
    "\n",
    "def eval_kld(x, s, u, order=[0,1]):\n",
    "    tot_kld = 0.0\n",
    "    for u_val, u_count in u.value_counts().items():\n",
    "        mask_0 = np.asarray((u == u_val) & (s == 0))\n",
    "        mask_1 = np.asarray((u == u_val) & (s == 1))\n",
    "        if (np.sum(mask_0) == 0) or (np.sum(mask_1) == 0):\n",
    "            continue\n",
    "        tmp = _eval_kld(x[mask_0].values, x[mask_1].values)\n",
    "        if np.isnan(tmp):\n",
    "            continue\n",
    "        tot_kld += tmp * u_count / len(u)\n",
    "    return tot_kld"
   ]
  },
  {
   "cell_type": "markdown",
   "id": "140d29ed",
   "metadata": {},
   "source": [
    "## Parameters for Distributional Repair Algorithm\n",
    "\n",
    "- `n_q` is the number of support points for the probability distribution function. This defaults to 250, however this can be increased to improve the accuracy of the repair algorithm.\n",
    "  \n",
    "- `S` is the protected or sensitive attribute for which the repair is against\n",
    "\n",
    "- `U` the name of the unprotected attribute. This should not be a sensitive attribute, or be used later by a model to predict the outcome.\n",
    "\n",
    "- `X` is a list of features used by the model to make its predictions. This should not include the sensitive attribute.\n",
    "\n",
    "- `X_continuous` is a list of continuous features in `X`\n",
    "\n",
    "- `Y` is the outcome of a model, which is predicted using the features in `X`. This should be a binary outcome."
   ]
  },
  {
   "cell_type": "code",
   "execution_count": 4,
   "id": "8de7069c",
   "metadata": {},
   "outputs": [],
   "source": [
    "n_R = 10000 # number of points in the research dataset\n",
    "n_q = 250 # number of supports under the estimated pdfs\n",
    "\n",
    "S = 'sex'\n",
    "U = 'college_educated'\n",
    "X = ['age','hours-per-week']\n",
    "X_continuous= ['age','hours-per-week']\n",
    "Y = 'Income Binary'"
   ]
  },
  {
   "cell_type": "markdown",
   "id": "3db297f8",
   "metadata": {},
   "source": [
    "## Evaluating the Distributional Repair (DR) method"
   ]
  },
  {
   "cell_type": "code",
   "execution_count": 5,
   "id": "1fabd225",
   "metadata": {},
   "outputs": [
    {
     "name": "stdout",
     "output_type": "stream",
     "text": [
      "(10000, 5) (38842, 5)\n"
     ]
    }
   ],
   "source": [
    "data = load_adult_dataset(S, U, X, Y)\n",
    "dataset_R, dataset_A = data.split([n_R], shuffle=True)\n",
    "\n",
    "df_R = dataset_R.convert_to_dataframe()[0]\n",
    "df_A = dataset_A.convert_to_dataframe()[0]\n",
    "\n",
    "print(df_R.shape, df_A.shape)"
   ]
  },
  {
   "cell_type": "code",
   "execution_count": 6,
   "id": "b6a4b1ea",
   "metadata": {},
   "outputs": [
    {
     "name": "stdout",
     "output_type": "stream",
     "text": [
      "DR done in 10.7s\n"
     ]
    }
   ],
   "source": [
    "t0 = time.time()\n",
    "dist_repair = DistributionalRepair(S, U, X, Y, X_continuous, n_q)\n",
    "dist_repair.fit(dataset_R)\n",
    "\n",
    "dataset_A_repaired = dist_repair.transform(dataset_A)\n",
    "dataset_R_repaired = dist_repair.transform(dataset_R)\n",
    "t_dr = time.time() - t0\n",
    "print(f\"DR done in {t_dr:.1f}s\")"
   ]
  },
  {
   "cell_type": "code",
   "execution_count": 7,
   "id": "92615859",
   "metadata": {},
   "outputs": [
    {
     "name": "stdout",
     "output_type": "stream",
     "text": [
      "DR - Archive (orig, repaired): [0.525656468515266, 1.1325513156755966] [0.4412919681225086, 0.26763968451774955]\n",
      "DR - Research (orig, repaired): [0.7031282082550464, 1.2129718230104007] [0.3008853718766283, 0.3159615783207155]\n"
     ]
    }
   ],
   "source": [
    "tilde_x_R = dataset_R_repaired.convert_to_dataframe()[0][X]\n",
    "tilde_x_A = dataset_A_repaired.convert_to_dataframe()[0][X]\n",
    "\n",
    "kld_x_R = np.zeros((len(X), 2))\n",
    "kld_x_tilde_R = np.zeros((len(X), 2))\n",
    "kld_x_A = np.zeros((len(X), 2))\n",
    "kld_x_tilde_A = np.zeros((len(X), 2))\n",
    "\n",
    "for i, feat in enumerate(X):\n",
    "    # Research (original vs repaired)\n",
    "    kld_x_R[i, 0] = eval_kld(dist_repair.x_R[feat], dist_repair.s_R, dist_repair.u_R, order=[0, 1])\n",
    "    kld_x_R[i, 1] = eval_kld(dist_repair.x_R[feat], dist_repair.s_R, dist_repair.u_R, order=[1, 0])\n",
    "    kld_x_tilde_R[i, 0] = eval_kld(tilde_x_R[feat], dist_repair.s_R, dist_repair.u_R, order=[0, 1])\n",
    "    kld_x_tilde_R[i, 1] = eval_kld(tilde_x_R[feat], dist_repair.s_R, dist_repair.u_R, order=[1, 0])\n",
    "\n",
    "    # Archive (hold-out)\n",
    "    kld_x_A[i, 0] = eval_kld(df_A[feat], df_A[S], df_A[U], order=[0, 1])\n",
    "    kld_x_A[i, 1] = eval_kld(df_A[feat], df_A[S], df_A[U], order=[1, 0])\n",
    "    kld_x_tilde_A[i, 0] = eval_kld(tilde_x_A[feat], df_A[S], df_A[U], order=[0, 1])\n",
    "    kld_x_tilde_A[i, 1] = eval_kld(tilde_x_A[feat], df_A[S], df_A[U], order=[1, 0])\n",
    "\n",
    "kld_x_A_mean = np.mean(kld_x_A, axis=1)\n",
    "kld_x_tilde_A_mean = np.mean(kld_x_tilde_A, axis=1)\n",
    "kld_x_R_mean = np.mean(kld_x_R, axis=1)\n",
    "kld_x_tilde_R_mean = np.mean(kld_x_tilde_R, axis=1)\n",
    "\n",
    "print(\"DR - Archive (orig, repaired):\", kld_x_A_mean.tolist(), kld_x_tilde_A_mean.tolist())\n",
    "print(\"DR - Research (orig, repaired):\", kld_x_R_mean.tolist(), kld_x_tilde_R_mean.tolist())"
   ]
  },
  {
   "cell_type": "markdown",
   "id": "b13d2567",
   "metadata": {},
   "source": [
    "## Group-Blind Repair (GBR), aligned to DR's support & barycenter\n",
    "\n",
    "To make a fair comparison, we reuse DR's support and barycenter per `(feature, u)` so both methods aim at the same target.  \n",
    "We add a few defensive steps (row normalization, zero-mass fallback) to make gamma usable."
   ]
  },
  {
   "cell_type": "markdown",
   "id": "10be45c8",
   "metadata": {},
   "source": [
    "### Safe normalization for coupling"
   ]
  },
  {
   "cell_type": "code",
   "execution_count": 8,
   "id": "50d5dbf4",
   "metadata": {},
   "outputs": [],
   "source": [
    "def safe_row_normalize(gamma):\n",
    "    gamma = np.asarray(gamma, float)\n",
    "    gamma[gamma < 0] = 0.0\n",
    "    gamma = np.nan_to_num(gamma, nan=0.0, posinf=0.0, neginf=0.0)\n",
    "    rs = gamma.sum(axis=1, keepdims=True)\n",
    "    dead = (rs[:, 0] <= 1e-15)\n",
    "    if dead.any():\n",
    "        I = np.eye(gamma.shape[0], dtype=float)\n",
    "        gamma[dead] = I[dead]\n",
    "        rs = gamma.sum(axis=1, keepdims=True)\n",
    "    with np.errstate(divide='ignore', invalid='ignore'):\n",
    "        np.divide(gamma, rs, out=gamma, where=rs > 0)\n",
    "    return gamma"
   ]
  },
  {
   "cell_type": "markdown",
   "id": "23ef29c5",
   "metadata": {},
   "source": [
    "### Learn a GBR gamma on DR's support & barycenter"
   ]
  },
  {
   "cell_type": "code",
   "execution_count": 9,
   "id": "a09d416a",
   "metadata": {},
   "outputs": [],
   "source": [
    "def gbr_gamma_from_dr(dist_repair, feat, u_val, eps=1e-2, K=200, method=\"baseline\", theta=None):\n",
    "    # DR pieces\n",
    "    support = np.ravel(dist_repair.supports[(feat, u_val)]) # 1D\n",
    "    pmf0 = dist_repair.pmf_0s[(feat, u_val)].ravel()\n",
    "    pmf1 = dist_repair.pmf_1s[(feat, u_val)].ravel()\n",
    "\n",
    "    mask_u = (dist_repair.u_R == u_val)\n",
    "    n_u = mask_u.sum()\n",
    "    if n_u == 0:\n",
    "        return support.reshape(-1,1), None\n",
    "\n",
    "    w0 = ((mask_u & (dist_repair.s_R == 0)).sum()) / n_u\n",
    "    w1 = 1.0 - w0\n",
    "\n",
    "    px = w0 * pmf0 + w1 * pmf1\n",
    "    M = ot.utils.dist(support.reshape(-1,1), support.reshape(-1,1))\n",
    "    bary = ot.bregman.barycenter(np.vstack([pmf0, pmf1]).T, M, 10)\n",
    "\n",
    "    # Optional fairness vector (same as earlier)\n",
    "    V = (pmf0 - pmf1) / np.maximum(px, 1e-12)\n",
    "\n",
    "    # Fit GBR\n",
    "    gbr = GroupBlindRepair(M, px, bary, V=V, epsilon=eps, K=K)\n",
    "    if method == \"baseline\":\n",
    "        gbr.fit_baseline()\n",
    "    elif method == \"partial\":\n",
    "        gbr.fit_partial(theta if theta is not None else 1e-2)\n",
    "    elif method == \"total\":\n",
    "        gbr.fit_total()\n",
    "    else:\n",
    "        raise ValueError(\"method must be one of {'baseline','partial','total'}\")\n",
    "\n",
    "    gamma = safe_row_normalize(gbr.coupling_matrix())\n",
    "    return support.reshape(-1,1), gamma"
   ]
  },
  {
   "cell_type": "markdown",
   "id": "0f737ab3",
   "metadata": {},
   "source": [
    "### Apply gamma to values sitting on \"support\" grid (same logic as DR)"
   ]
  },
  {
   "cell_type": "code",
   "execution_count": 10,
   "id": "9251890d",
   "metadata": {},
   "outputs": [],
   "source": [
    "def apply_gamma(values, support, gamma):\n",
    "    if gamma is None:\n",
    "        return values\n",
    "    \n",
    "    s1d = support[:, 0]\n",
    "    step = np.diff(s1d)[0] if len(s1d) > 1 else 1.0\n",
    "    out = np.asarray(values, float).copy()\n",
    "\n",
    "    for k, x in enumerate(out):\n",
    "        pos = np.searchsorted(s1d, x, side='left')\n",
    "        if pos == 0 or pos == len(s1d):\n",
    "            i = min(pos, len(s1d) - 1)\n",
    "        else:\n",
    "            interp = float(x - s1d[pos-1]) / step\n",
    "            if np.round(interp, 4) == 1.0:\n",
    "                i = pos\n",
    "            else:\n",
    "                i = np.random.choice([pos-1, pos], p=[1-interp, interp])\n",
    "\n",
    "        row = np.asarray(gamma[i, :], float).ravel()\n",
    "        row = np.clip(row, 0, None)\n",
    "        s = row.sum()\n",
    "        if s > 0:\n",
    "            j = np.random.choice(row.shape[0], p=row/s)\n",
    "        else:\n",
    "            j = i\n",
    "        out[k] = s1d[j]\n",
    "    return out"
   ]
  },
  {
   "cell_type": "markdown",
   "id": "84e7ed78",
   "metadata": {},
   "source": [
    "### Choose GBR method & parameters"
   ]
  },
  {
   "cell_type": "code",
   "execution_count": 11,
   "id": "1a513c7f",
   "metadata": {},
   "outputs": [],
   "source": [
    "GBR_METHOD = \"partial\" # \"baseline\" | \"partial\" | \"total\"\n",
    "GBR_EPS = 7e-3 # entropic reg\n",
    "GBR_K = 200 # iterations\n",
    "GBR_THETA = 3e-4 # used if method == \"partial\""
   ]
  },
  {
   "cell_type": "markdown",
   "id": "769e530d",
   "metadata": {},
   "source": [
    "### Build GBR-repaired X (archive & research)"
   ]
  },
  {
   "cell_type": "code",
   "execution_count": 12,
   "id": "152d9291",
   "metadata": {},
   "outputs": [
    {
     "name": "stdout",
     "output_type": "stream",
     "text": [
      "GBR (partial) done in 283.9s\n"
     ]
    }
   ],
   "source": [
    "t0 = time.time()\n",
    "tilde_x_A_gbr = df_A[X].copy()\n",
    "tilde_x_R_gbr = df_R[X].copy()\n",
    "\n",
    "for feat in X:\n",
    "    for u_val in df_A[U].unique():\n",
    "        sup, gamma = gbr_gamma_from_dr(\n",
    "            dist_repair, feat, u_val,\n",
    "            eps=GBR_EPS, K=GBR_K,\n",
    "            method=GBR_METHOD, theta=GBR_THETA\n",
    "        )\n",
    "        if gamma is None:\n",
    "            continue\n",
    "        \n",
    "        mA = (df_A[U] == u_val).values\n",
    "        mR = (df_R[U] == u_val).values\n",
    "        if mA.any():\n",
    "            tilde_x_A_gbr.loc[mA, feat] = apply_gamma(df_A.loc[mA, feat].values, sup, gamma)\n",
    "        if mR.any():\n",
    "            tilde_x_R_gbr.loc[mR, feat] = apply_gamma(df_R.loc[mR, feat].values, sup, gamma)\n",
    "\n",
    "t_gbr = time.time() - t0\n",
    "print(f\"GBR ({GBR_METHOD}) done in {t_gbr:.1f}s\")"
   ]
  },
  {
   "cell_type": "markdown",
   "id": "12dd2beb",
   "metadata": {},
   "source": [
    "### GBR KLDs"
   ]
  },
  {
   "cell_type": "code",
   "execution_count": 13,
   "id": "62afeab7",
   "metadata": {},
   "outputs": [
    {
     "name": "stdout",
     "output_type": "stream",
     "text": [
      "GBR - Archive (repaired): [0.16012674592770912, 0.8638666443242085]\n",
      "GBR - Research (repaired): [0.29288071778733704, 0.998762633803177]\n"
     ]
    }
   ],
   "source": [
    "kld_x_tilde_A_gbr = np.zeros((len(X), 2))\n",
    "kld_x_tilde_R_gbr = np.zeros((len(X), 2))\n",
    "for i, feat in enumerate(X):\n",
    "    kld_x_tilde_A_gbr[i, 0] = eval_kld(tilde_x_A_gbr[feat], df_A[S], df_A[U], order=[0, 1])\n",
    "    kld_x_tilde_A_gbr[i, 1] = eval_kld(tilde_x_A_gbr[feat], df_A[S], df_A[U], order=[1, 0])\n",
    "    kld_x_tilde_R_gbr[i, 0] = eval_kld(tilde_x_R_gbr[feat], df_R[S], df_R[U], order=[0, 1])\n",
    "    kld_x_tilde_R_gbr[i, 1] = eval_kld(tilde_x_R_gbr[feat], df_R[S], df_R[U], order=[1, 0])\n",
    "\n",
    "kld_x_tilde_A_gbr_mean = np.mean(kld_x_tilde_A_gbr, axis=1)\n",
    "kld_x_tilde_R_gbr_mean = np.mean(kld_x_tilde_R_gbr, axis=1)\n",
    "\n",
    "print(\"GBR - Archive (repaired):\", kld_x_tilde_A_gbr_mean.tolist())\n",
    "print(\"GBR - Research (repaired):\", kld_x_tilde_R_gbr_mean.tolist())"
   ]
  },
  {
   "cell_type": "markdown",
   "id": "6275098d",
   "metadata": {},
   "source": [
    "## Plot DR vs GBR"
   ]
  },
  {
   "cell_type": "code",
   "execution_count": 15,
   "id": "0219cb97",
   "metadata": {},
   "outputs": [
    {
     "data": {
      "image/png": "[encoded data removed]",
      "text/plain": [
       "<Figure size 800x600 with 1 Axes>"
      ]
     },
     "metadata": {},
     "output_type": "display_data"
    }
   ],
   "source": [
    "bar_width = 0.25\n",
    "pos = np.arange(len(X))\n",
    "x_labels = [x.replace('-', ' ').capitalize() for x in X]\n",
    "\n",
    "fig, ax = plt.subplots()\n",
    "orig = ax.bar(pos - bar_width, kld_x_A_mean, width=bar_width, alpha=0.35, color='red', label='Original Archived')\n",
    "dr = ax.bar(pos, kld_x_tilde_A_mean, width=bar_width, alpha=0.35, color='green', label='DR Archived')\n",
    "gbr = ax.bar(pos + bar_width, kld_x_tilde_A_gbr_mean, width=bar_width, alpha=0.35, color='tab:blue', label=f'GBR({GBR_METHOD}) Archived')\n",
    "\n",
    "ax.scatter(pos - bar_width, kld_x_R_mean, color='red', marker='o', s=45, label='Original Research')\n",
    "ax.scatter(pos, kld_x_tilde_R_mean, color='green', marker='o', s=45, label='DR Research')\n",
    "ax.scatter(pos + bar_width, kld_x_tilde_R_gbr_mean, color='tab:blue', marker='o', s=45, label=f'GBR({GBR_METHOD}) Research')\n",
    "\n",
    "ax.set_xticks(pos)\n",
    "ax.set_xticklabels(x_labels)\n",
    "ax.set_ylabel(\"U-Mean KLD\")\n",
    "ax.set_xlabel(\"Features\")\n",
    "ax.legend(loc='upper left')\n",
    "fig.suptitle(\"U-Mean KLD: DR vs GBR (P(X|S=1,U) vs P(X|S=0,U))\", fontsize=16)\n",
    "\n",
    "ax.grid(True, axis='y', linestyle='--', alpha=0.4)\n",
    "\n",
    "fig.set_size_inches(8, 6)\n",
    "\n",
    "plt.tight_layout(rect=[0, 0, 1, 0.95])\n",
    "plt.show()"
   ]
  }
 ],
 "metadata": {
  "kernelspec": {
   "display_name": ".venv (3.13.3)",
   "language": "python",
   "name": "python3"
  },
  "language_info": {
   "codemirror_mode": {
    "name": "ipython",
    "version": 3
   },
   "file_extension": ".py",
   "mimetype": "text/x-python",
   "name": "python",
   "nbconvert_exporter": "python",
   "pygments_lexer": "ipython3",
   "version": "3.13.3"
  }
 },
 "nbformat": 4,
 "nbformat_minor": 5
}
