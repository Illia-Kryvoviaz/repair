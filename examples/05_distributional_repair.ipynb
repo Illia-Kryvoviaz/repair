{
 "cells": [
  {
   "cell_type": "markdown",
   "metadata": {},
   "source": [
    "# Distributional Repair Algorithm"
   ]
  },
  {
   "cell_type": "markdown",
   "metadata": {},
   "source": [
    "The distributional repair algorithm is adapted from the work of Abigail Longbridge et al.\n",
    "https://arxiv.org/pdf/2403.13864\n",
    "\n",
    "This algorithm learns an optimal transport plan from the privileged and unprivileged groups to the barycentre between them. This plan can then be applied to either the training data or the test data to repair the dataset under the notion of conditional independence."
   ]
  },
  {
   "cell_type": "code",
   "execution_count": 1,
   "metadata": {},
   "outputs": [],
   "source": [
    "# Load all necessary packages\n",
    "import sys\n",
    "sys.path.append(\"../\")\n",
    "from humancompatible.repair.distributional_repair import DistributionalRepair\n",
    "# from aif360.algorithms.preprocessing.pointwise_repair import PointwiseRepair\n",
    "\n",
    "from aif360.datasets import AdultDataset\n",
    "import numpy as np\n",
    "import pandas as pd\n",
    "import ot\n",
    "import matplotlib.pyplot as plt\n",
    "from sklearn.neighbors import KernelDensity\n",
    "\n",
    "from tqdm import tqdm\n",
    "\n",
    "import time"
   ]
  },
  {
   "cell_type": "markdown",
   "metadata": {},
   "source": [
    "This demo file uses the adult dataset to demonstrate the distributional repair algorithm."
   ]
  },
  {
   "cell_type": "code",
   "execution_count": 2,
   "metadata": {},
   "outputs": [],
   "source": [
    "def load_adult_dataset(s,u,x,y):\n",
    "    def custom_preprocessing(df):\n",
    "        pd.set_option('future.no_silent_downcasting', True)\n",
    "        def group_race(x):\n",
    "            if x == \"White\":\n",
    "                return 1.0\n",
    "            else:\n",
    "                return 0.0\n",
    "\n",
    "        df['race'] = df['race'].apply(lambda x: group_race(x))\n",
    "\n",
    "        # Encode 'sex' column as numerical values\n",
    "        df['sex'] = df['sex'].map({'Female': 0.0, 'Male': 1.0})\n",
    "\n",
    "        df['Income Binary'] = df['income-per-year']\n",
    "        df['Income Binary'] = df['Income Binary'].replace(to_replace='>50K.', value=1, regex=True)\n",
    "        df['Income Binary'] = df['Income Binary'].replace(to_replace='>50K', value=1, regex=True)\n",
    "        df['Income Binary'] = df['Income Binary'].replace(to_replace='<=50K.', value=0, regex=True)\n",
    "        df['Income Binary'] = df['Income Binary'].replace(to_replace='<=50K', value=0, regex=True)\n",
    "        # 1 if education-num is greater than 9, 0 otherwise\n",
    "        df['college_educated'] = (df['education-num'] > 9).astype(int)\n",
    "\n",
    "        #drop nan columns\n",
    "        df = df.dropna()\n",
    "\n",
    "        return df\n",
    "\n",
    "    adult = AdultDataset(\n",
    "        label_name=y,\n",
    "        favorable_classes=[1,1],\n",
    "        protected_attribute_names=[s],\n",
    "        privileged_classes=[[1.0]],\n",
    "        instance_weights_name=None,\n",
    "        categorical_features=[],\n",
    "        features_to_keep=[s]+[u]+x,\n",
    "        na_values=[],\n",
    "        custom_preprocessing=custom_preprocessing,\n",
    "        features_to_drop=[],\n",
    "        metadata={}\n",
    "    )\n",
    "    return adult"
   ]
  },
  {
   "cell_type": "markdown",
   "metadata": {},
   "source": [
    "KL divergence is used as the distance metric between the original and repaired data distributions. Is calculated for each feature, with the the average KL divergence across all features used as the final distance metric, U-Mean KLD."
   ]
  },
  {
   "cell_type": "code",
   "execution_count": 3,
   "metadata": {},
   "outputs": [],
   "source": [
    "def _eval_kld(x_0, x_1):\n",
    "    support = np.linspace(np.min([np.min(x_0), np.min(x_1)]), np.max([np.max(x_0), np.max(x_1)]), 500).reshape(-1,1)\n",
    "    kde_0 = KernelDensity(kernel='gaussian',bandwidth='silverman').fit(x_0.reshape(-1,1))\n",
    "    pmf_0 = np.exp(kde_0.score_samples(support)) \n",
    "    #add a small value to avoid division by zero\n",
    "    pmf_0 += 1e-10\n",
    "    kde_1 = KernelDensity(kernel='gaussian',bandwidth='silverman').fit(x_1.reshape(-1,1))\n",
    "    pmf_1 = np.exp(kde_1.score_samples(support))\n",
    "    pmf_1 += 1e-10\n",
    "    return - np.sum(pmf_0 * np.log(pmf_1 / pmf_0))\n",
    "\n",
    "def eval_kld(x, s, u, order=[0,1]):\n",
    "    tot_kld = 0.0\n",
    "    for u_val, u_count in u.value_counts().items():\n",
    "        mask_0 = np.asarray((u == u_val) & (s == 0))\n",
    "        mask_1 = np.asarray((u == u_val) & (s == 1))\n",
    "        if (np.sum(mask_0) == 0) or (np.sum(mask_1) == 0):\n",
    "            continue\n",
    "        tmp = _eval_kld(x[mask_0].values, x[mask_1].values)\n",
    "        if np.isnan(tmp):\n",
    "            continue\n",
    "        tot_kld += tmp * u_count / len(u)\n",
    "    return tot_kld"
   ]
  },
  {
   "cell_type": "markdown",
   "metadata": {},
   "source": [
    "## Parameters for Distributional Repair Algorithm\n",
    "\n",
    "- `n_q` is the number of support points for the probability distribution function. This defaults to 250, however this can be increased to improve the accuracy of the repair algorithm.\n",
    "  \n",
    "- `S` is the protected or sensitive attribute for which the repair is against\n",
    "\n",
    "- `U` the name of the unprotected attribute. This should not be a sensitive attribute, or be used later by a model to predict the outcome.\n",
    "\n",
    "- `X` is a list of features used by the model to make its predictions. This should not include the sensitive attribute.\n",
    "\n",
    "- `X_continuous` is a list of continuous features in `X`\n",
    "\n",
    "- `Y` is the outcome of a model, which is predicted using the features in `X`. This should be a binary outcome."
   ]
  },
  {
   "cell_type": "code",
   "execution_count": 4,
   "metadata": {},
   "outputs": [],
   "source": [
    "n_R = 10000 # number of points in the research dataset\n",
    "n_q = 250 # number of supports under the estimated pdfs\n",
    "\n",
    "S = 'sex'\n",
    "U = 'college_educated'\n",
    "X = ['age','hours-per-week']\n",
    "X_continuous= ['age','hours-per-week']\n",
    "Y = 'Income Binary'"
   ]
  },
  {
   "cell_type": "markdown",
   "metadata": {},
   "source": [
    "## Step 1: Split the data into a research and archive set\n",
    "\n",
    "The research dataset will be used by the repair algorithm to generate an optimal transport plan that can be used to drive data towards the barycentre of the distributions of the protected and unprotected groups. The archive dataset will be used to evaluate the performance of the repair algorithm."
   ]
  },
  {
   "cell_type": "code",
   "execution_count": 5,
   "metadata": {},
   "outputs": [],
   "source": [
    "data = load_adult_dataset(S,U,X,Y)\n",
    "dataset_R, dataset_A = data.split([n_R], shuffle=True)"
   ]
  },
  {
   "cell_type": "markdown",
   "metadata": {},
   "source": [
    "## Step 2: Initialise the repair algorithm\n",
    "\n",
    "The Distributional Repair Algorithm is initialised with the research dataset, and the parameters:\n",
    "- `S`\n",
    "  \n",
    "- `U`\n",
    "  \n",
    "- `X`\n",
    "  \n",
    "- `Y`\n",
    "  \n",
    "- `X_continuous`\n",
    "  \n",
    "- `n_q` *(optional)*"
   ]
  },
  {
   "cell_type": "code",
   "execution_count": 6,
   "metadata": {},
   "outputs": [],
   "source": [
    "\n",
    "dist_repair = DistributionalRepair(S,U,X,Y,X_continuous,n_q)\n"
   ]
  },
  {
   "cell_type": "markdown",
   "metadata": {},
   "source": [
    "## Step 3: Fit the repair algorithm\n",
    "Using the research dataset as the input, the fit method derives an optimal transport plan used to repair the data under the notion of conditional independence."
   ]
  },
  {
   "cell_type": "code",
   "execution_count": 7,
   "metadata": {},
   "outputs": [
    {
     "data": {
      "text/plain": [
       "<humancompatible.repair.distributional_repair.DistributionalRepair at 0x1ccf36d7230>"
      ]
     },
     "execution_count": 7,
     "metadata": {},
     "output_type": "execute_result"
    }
   ],
   "source": [
    "dist_repair.fit(dataset_R)"
   ]
  },
  {
   "cell_type": "markdown",
   "metadata": {},
   "source": [
    "## Step  4: Transform the data\n",
    "\n",
    "The transform method is used to repair the data in the archive dataset by applying the optimal transport plan. The method returns the repaired data, and can be used to repair either the research or archive dataset."
   ]
  },
  {
   "cell_type": "code",
   "execution_count": 8,
   "metadata": {},
   "outputs": [],
   "source": [
    "\n",
    "dataset_A_repaired = dist_repair.transform(dataset_A)\n",
    "dataset_R_repaired = dist_repair.transform(dataset_R)"
   ]
  },
  {
   "cell_type": "markdown",
   "metadata": {},
   "source": [
    "## Evaluating the repair algorithm\n",
    "The U-Mean KLD value can be calculated for both the repaired and the original data. The U-Mean KLD value is the average KL divergence across all features, and is used to evaluate the performance of the repair algorithm. The lower the U-Mean KLD value, the better the repair algorithm has performed."
   ]
  },
  {
   "cell_type": "code",
   "execution_count": 9,
   "metadata": {},
   "outputs": [],
   "source": [
    "tilde_x_R = dataset_R_repaired.convert_to_dataframe()[0][X]\n",
    "tilde_x_A = dataset_A_repaired.convert_to_dataframe()[0][X]\n",
    "kld_x_R = np.zeros(shape=(len(X), 2))\n",
    "kld_x_tilde_R = np.zeros(shape=(len(X), 2))\n",
    "kld_x_A = np.zeros(shape=(len(X), 2))\n",
    "kld_x_tilde_A = np.zeros(shape=(len(X), 2))\n",
    "pos = np.arange(len(X))\n",
    "for i, feat in enumerate(X):\n",
    "    kld_x_R[i, 0] = eval_kld(dist_repair.x_R[feat], dist_repair.s_R, dist_repair.u_R, order=[0, 1])\n",
    "    kld_x_R[i, 1] = eval_kld(dist_repair.x_R[feat], dist_repair.s_R, dist_repair.u_R, order=[1, 0])\n",
    "    kld_x_tilde_R[i, 0] = eval_kld(tilde_x_R[feat], dist_repair.s_R, dist_repair.u_R, order=[0, 1])\n",
    "    kld_x_tilde_R[i, 1] = eval_kld(tilde_x_R[feat], dist_repair.s_R, dist_repair.u_R, order=[1, 0])\n",
    "    kld_x_A[i, 0] = eval_kld(dataset_A.convert_to_dataframe()[0][X][feat], dataset_A.convert_to_dataframe()[0][S], dataset_A.convert_to_dataframe()[0][U], order=[0, 1])\n",
    "    kld_x_A[i, 1] = eval_kld(dataset_A.convert_to_dataframe()[0][X][feat], dataset_A.convert_to_dataframe()[0][S], dataset_A.convert_to_dataframe()[0][U], order=[1, 0])\n",
    "    kld_x_tilde_A[i, 0] = eval_kld(tilde_x_A[feat], dataset_A.convert_to_dataframe()[0][S], dataset_A.convert_to_dataframe()[0][U], order=[0, 1])\n",
    "    kld_x_tilde_A[i, 1] = eval_kld(tilde_x_A[feat], dataset_A.convert_to_dataframe()[0][S], dataset_A.convert_to_dataframe()[0][U], order=[1, 0])\n",
    "kld_x_A_mean = np.mean(kld_x_A, axis=1)\n",
    "kld_x_tilde_A_mean = np.mean(kld_x_tilde_A, axis=1)\n",
    "kld_x_R_mean = np.mean(kld_x_R, axis=1)\n",
    "kld_x_tilde_R_mean = np.mean(kld_x_tilde_R, axis=1)"
   ]
  },
  {
   "cell_type": "markdown",
   "metadata": {},
   "source": [
    "## Plotting the results\n",
    "\n",
    "The plot below demonstrates how the repair algorithm has performed. Successful repair is indicated by the repaired scores (green) being lower than the original scores (red)."
   ]
  },
  {
   "cell_type": "code",
   "execution_count": 10,
   "metadata": {},
   "outputs": [
    {
     "data": {
      "image/png": "[encoded data removed]",
      "text/plain": [
       "<Figure size 800x600 with 1 Axes>"
      ]
     },
     "metadata": {},
     "output_type": "display_data"
    }
   ],
   "source": [
    "fig, ax = plt.subplots(figsize=(8, 6))\n",
    "\n",
    "bar_width = 0.3\n",
    "original_color = 'red'\n",
    "repaired_color = 'green'\n",
    "\n",
    "original_bars = ax.bar(x=pos - bar_width/2, height=kld_x_A_mean, width=bar_width, alpha=0.4, color=original_color)\n",
    "repaired_bars = ax.bar(x=pos + bar_width/2, height=kld_x_tilde_A_mean, width=bar_width, alpha=0.4, color=repaired_color)\n",
    "original_scatter = ax.scatter(x=pos - bar_width/2, y=kld_x_R_mean, color=original_color, marker='o', s=50)\n",
    "repaired_scatter = ax.scatter(x=pos + bar_width/2, y=kld_x_tilde_R_mean, color=repaired_color, marker='o', s=50)\n",
    "\n",
    "x_labels = [x.replace('-', ' ').capitalize() for x in X]\n",
    "ax.set_xticks(pos)\n",
    "ax.set_xticklabels(x_labels)\n",
    "\n",
    "handles = [original_bars, repaired_bars, original_scatter, repaired_scatter]\n",
    "labels = ['Original Archived Data', 'Repaired Archived Data', 'Original Research Data', 'Repaired Research Data']\n",
    "\n",
    "ax.legend(handles, labels, loc='upper left')\n",
    "ax.set_ylabel(\"KLD\")\n",
    "ax.set_xlabel(\"Features\")\n",
    "\n",
    "fig.suptitle(\"U-Mean KLD between P(X|S=1,U) and P(X|S=0,U)\", fontsize=16)\n",
    "plt.tight_layout(rect=[0, 0, 1, 0.95])\n",
    "plt.show()\n"
   ]
  }
 ],
 "metadata": {
  "kernelspec": {
   "display_name": ".venv",
   "language": "python",
   "name": "python3"
  },
  "language_info": {
   "codemirror_mode": {
    "name": "ipython",
    "version": 3
   },
   "file_extension": ".py",
   "mimetype": "text/x-python",
   "name": "python",
   "nbconvert_exporter": "python",
   "pygments_lexer": "ipython3",
   "version": "3.13.3"
  }
 },
 "nbformat": 4,
 "nbformat_minor": 2
}
